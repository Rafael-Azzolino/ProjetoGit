{
  "nbformat": 4,
  "nbformat_minor": 0,
  "metadata": {
    "colab": {
      "provenance": [],
      "toc_visible": true,
      "authorship_tag": "ABX9TyOvvc42jZ1eiUJOEihnInfx",
      "include_colab_link": true
    },
    "kernelspec": {
      "name": "python3",
      "display_name": "Python 3"
    },
    "language_info": {
      "name": "python"
    }
  },
  "cells": [
    {
      "cell_type": "markdown",
      "metadata": {
        "id": "view-in-github",
        "colab_type": "text"
      },
      "source": [
        "<a href=\"https://colab.research.google.com/github/Rafael-Azzolino/ProjetoGit/blob/main/C%C3%B3pia_de_Untitled0.ipynb\" target=\"_parent\"><img src=\"https://colab.research.google.com/assets/colab-badge.svg\" alt=\"Open In Colab\"/></a>"
      ]
    },
    {
      "cell_type": "code",
      "execution_count": null,
      "metadata": {
        "id": "qEozAt-lCfGa"
      },
      "outputs": [],
      "source": [
        "\"\"\"Comando pra TRAZER AS MÉDIAS DE DUAS NOTAS\"\"\"\n",
        "\n",
        "M=float(input('Media obtida: '))\n",
        "F=float(input('total de nota: '))\n",
        "if M>=70 and F<=20:\n",
        "  print('Aprovado')\n",
        "else:\n",
        "   print('REPROVADO')"
      ]
    },
    {
      "cell_type": "code",
      "source": [
        "import time\n",
        "\n",
        "x = 0\n",
        "while True:\n",
        "\n",
        "  x = x + 1\n",
        "  if x <= 500  :\n",
        "    print('\\rdesligado', end = '')\n",
        "\n",
        "  if x > 500 :\n",
        "    print('\\rLigado   ', end = '')\n",
        "\n",
        "[]  if x>= 1000 :\n",
        "    x = 0\n",
        "\n",
        "  time.sleep(0.001)"
      ],
      "metadata": {
        "colab": {
          "base_uri": "https://localhost:8080/",
          "height": 106
        },
        "id": "0aHPYo_hbvi9",
        "outputId": "dc0ec4ab-1d2a-47d9-c3cc-120551f6b6fc"
      },
      "execution_count": null,
      "outputs": [
        {
          "output_type": "error",
          "ename": "IndentationError",
          "evalue": "unindent does not match any outer indentation level (<tokenize>, line 16)",
          "traceback": [
            "\u001b[0;36m  File \u001b[0;32m\"<tokenize>\"\u001b[0;36m, line \u001b[0;32m16\u001b[0m\n\u001b[0;31m    time.sleep(0.001)\u001b[0m\n\u001b[0m    ^\u001b[0m\n\u001b[0;31mIndentationError\u001b[0m\u001b[0;31m:\u001b[0m unindent does not match any outer indentation level\n"
          ]
        }
      ]
    },
    {
      "cell_type": "code",
      "source": [
        "\"\"\"Comando pra transformar um numero inteiro em um número BINÁRIO (DE FORMA OTIMIZADO)\"\"\"\n",
        "\n",
        "numero=int(input('Informe u número inteiro: '))\n",
        "print(f'Obinário correspondente é: {bin(numero)[2:]}')"
      ],
      "metadata": {
        "colab": {
          "base_uri": "https://localhost:8080/"
        },
        "id": "-RGm3RsHGlgC",
        "outputId": "04799056-fc7c-4a2c-fe28-cd298acfdd97"
      },
      "execution_count": null,
      "outputs": [
        {
          "output_type": "stream",
          "name": "stdout",
          "text": [
            "Informe u número inteiro: 25\n",
            "Obinário correspondente é: 11001\n"
          ]
        }
      ]
    },
    {
      "cell_type": "code",
      "source": [
        "\"\"\"Comando pra transformar um numero inteiro em um número HEXADECIMAL\"\"\"\n",
        "\n",
        "numero=int(input('Informe u número inteiro: '))\n",
        "print(f'Obinário correspondente é: {hex(numero)[8:]}')"
      ],
      "metadata": {
        "colab": {
          "base_uri": "https://localhost:8080/"
        },
        "id": "M79PJ6ksJB6z",
        "outputId": "4b626845-d853-4989-a08a-e637c2166b75"
      },
      "execution_count": null,
      "outputs": [
        {
          "output_type": "stream",
          "name": "stdout",
          "text": [
            "Informe u número inteiro: -4\n",
            "Obinário correspondente é: \n"
          ]
        }
      ]
    },
    {
      "cell_type": "code",
      "source": [
        "\"\"\"Comando pra transformar um numero inteiro em um número binario (dE FORMA PASSO A PASSO)\"\"\"\n",
        "\n",
        "numero=int(input('Digite um número inteiro: '))\n",
        "binario=''\n",
        "while numero > 0:\n",
        "  binario+=str(numero%2)\n",
        "  numero//=2\n",
        "print(f'O binário correspondente é: {binario[::-1]}')"
      ],
      "metadata": {
        "colab": {
          "base_uri": "https://localhost:8080/"
        },
        "id": "Pk2sb2gzKSKI",
        "outputId": "9fa9c3f2-a225-448f-879c-99575494f182"
      },
      "execution_count": null,
      "outputs": [
        {
          "output_type": "stream",
          "name": "stdout",
          "text": [
            "Digite um número inteiro: 4\n",
            "O binário correspondente é: 100\n"
          ]
        }
      ]
    }
  ]
}